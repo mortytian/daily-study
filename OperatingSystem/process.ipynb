{
 "cells": [
  {
   "cell_type": "markdown",
   "metadata": {},
   "source": [
    "**Process类**  \n",
    "Process([group [, target [, name [, args [, kwargs]]]]])，由该类实例化得到的对象，表示一个子进程中的任务（尚未启动）\n",
    "\n",
    "强调：\n",
    "1. 需要使用关键字的方式来指定参数\n",
    "2. args指定的为传给target函数的位置参数，是一个元组形式，必须有逗号\n",
    "\n",
    "group参数未使用，值始终为None\n",
    "\n",
    "target表示调用对象，即子进程要执行的任务\n",
    "\n",
    "args表示调用对象的位置参数元组，args=(1,2,'hexin',)\n",
    "\n",
    "kwargs表示调用对象的字典,kwargs={'name':'hexin','age':18}\n",
    "\n",
    "name为子进程的名称  \n",
    "\n",
    "**方法介绍**\n",
    "p.start()：启动进程，并调用该子进程中的p.run() \n",
    "p.run():进程启动时运行的方法，正是它去调用target指定的函数，我们自定义类的类中一定要实现该方法  \n",
    "\n",
    "p.terminate():强制终止进程p，不会进行任何清理操作，如果p创建了子进程，该子进程就成了僵尸进程，使用该方法需要特别小心这种情况。如果p还保存了一个锁那么也将不会被释放，进而导致死锁\n",
    "p.is_alive():如果p仍然运行，返回True\n",
    "\n",
    "p.join([timeout]):主线程等待p终止（强调：是主线程处于等的状态，而p是处于运行的状态）。timeout是可选的超时时间，需要强调的是，p.join只能join住start开启的进程，而不能join住run开启的进程\n",
    "\n",
    "**属性介绍**  \n",
    "p.daemon：默认值为False，如果设为True，代表p为后台运行的守护进程，当p的父进程终止时，p也随之终止，并且设定为True后，p不能创建自己的新进程，必须在p.start()之前设置\n",
    "\n",
    "p.name:进程的名称\n",
    "\n",
    "p.pid：进程的pid\n",
    "\n",
    "p.exitcode:进程在运行时为None、如果为–N，表示被信号N结束(了解即可)\n",
    "\n",
    "p.authkey:进程的身份验证键,默认是由os.urandom()随机生成的32字符的字符串。这个键的用途是为涉及网络连接的底层进程间通信提供安全性，这类连接只有在具有相同的身份验证键时才能成功（了解即可）"
   ]
  },
  {
   "cell_type": "code",
   "execution_count": 1,
   "metadata": {},
   "outputs": [],
   "source": [
    "import time\n",
    "import random\n",
    "from multiprocessing import Process"
   ]
  },
  {
   "cell_type": "markdown",
   "metadata": {},
   "source": [
    "创建并开启子进程  \n",
    "**方法一**"
   ]
  },
  {
   "cell_type": "code",
   "execution_count": 15,
   "metadata": {},
   "outputs": [
    {
     "name": "stdout",
     "output_type": "stream",
     "text": [
      "0 run\n",
      "1 run\n",
      "end\n",
      "2 run\n",
      "3 run\n",
      "3 end\n",
      "0 end\n",
      "1 end\n",
      "2 end\n"
     ]
    }
   ],
   "source": [
    "def test(name):\n",
    "    print(\"%s run\" % name)\n",
    "    time.sleep(random.randrange(0,2))\n",
    "    print(\"%s end\" % name)\n",
    "\n",
    "p_obj = []\n",
    "for i in range(0,4):\n",
    "    p = Process(target=test, args=('%s' % i,))\n",
    "    p_obj.append(p)\n",
    "    p.start()\n",
    "print('end')"
   ]
  },
  {
   "cell_type": "markdown",
   "metadata": {},
   "source": [
    "**方法二**"
   ]
  },
  {
   "cell_type": "code",
   "execution_count": 24,
   "metadata": {},
   "outputs": [
    {
     "name": "stdout",
     "output_type": "stream",
     "text": [
      "0 run\n",
      "1 run\n",
      "2 run\n",
      "2 end\n",
      "end\n",
      "3 run\n",
      "3 end\n",
      "4 run\n",
      "4 end\n",
      "0 end\n",
      "1 end\n"
     ]
    }
   ],
   "source": [
    "class Test(Process):\n",
    "    def __init__(self,name):\n",
    "        super().__init__()\n",
    "        self.name=name\n",
    "        \n",
    "    def run(self):\n",
    "        print('%s run' % self.name)\n",
    "        time.sleep(random.randrange(0,2))\n",
    "        print('%s end' % self.name)\n",
    "    \n",
    "p_obj = []\n",
    "for i in range(0,5):\n",
    "    p = Test('%s' % i)\n",
    "    p_obj.append(p)\n",
    "    p.start()\n",
    "print('end')"
   ]
  },
  {
   "cell_type": "markdown",
   "metadata": {},
   "source": [
    "**run()**和**start()**的区别在于  \n",
    "start()方法\n",
    "\n",
    "开始线程活动。\n",
    "\n",
    "对每一个线程对象来说它只能被调用一次，它安排对象在一个另外的单独线程中调用run()方法（而非当前所处线程）。\n",
    "\n",
    "当该方法在同一个线程对象中被调用超过一次时，会引入RuntimeError(运行时错误)。\n",
    "\n",
    "run()方法\n",
    "\n",
    "代表了线程活动的方法。\n",
    "\n",
    "你可以在子类中重写此方法。标准run()方法调用了传递给对象的构造函数的可调对象作为目标参数，如果有这样的参数的话，顺序和关键字参数分别从args和kargs取得。\n",
    "\n"
   ]
  },
  {
   "cell_type": "code",
   "execution_count": 32,
   "metadata": {},
   "outputs": [
    {
     "name": "stdout",
     "output_type": "stream",
     "text": [
      "running in <_MainThread(MainThread, started 4578622784)>\n",
      "running in <myThread(mythrd, started 123145352839168)>\n"
     ]
    }
   ],
   "source": [
    "\n",
    "import threading\n",
    " \n",
    "class myThread(threading.Thread):\n",
    "    def __init__(self, threadID, name, counter):\n",
    "        threading.Thread.__init__(self)\n",
    "        self.threadID = threadID\n",
    "        self.name = name\n",
    "        self.counter = counter\n",
    " \n",
    "    def run(self):\n",
    "        currentTreadname = threading.currentThread()\n",
    "        print(\"running in\", currentTreadname)\n",
    "        \n",
    "thread = myThread(1,\"mythrd\",1)\n",
    "thread.run()\n",
    "thread.start()"
   ]
  },
  {
   "cell_type": "code",
   "execution_count": 34,
   "metadata": {},
   "outputs": [
    {
     "name": "stdout",
     "output_type": "stream",
     "text": [
      "Piao-30 is piaoing\n",
      "Piao-30 is piao end\n",
      "开始\n"
     ]
    }
   ],
   "source": [
    "from multiprocessing import Process\n",
    "import time\n",
    "import random\n",
    "\n",
    "class Piao(Process):\n",
    "    def __init__(self,name):\n",
    "        self.name=name\n",
    "        super().__init__()\n",
    "    def run(self):\n",
    "        print('%s is piaoing' %self.name)\n",
    "        time.sleep(random.randrange(1,3))\n",
    "        print('%s is piao end' %self.name)\n",
    "\n",
    "\n",
    "p=Piao('e')\n",
    "p.daemon=True #一定要在p.start()前设置,设置p为守护进程,禁止p创建子进程,并且父进程死,p跟着一起死\n",
    "p.start()\n",
    "p.join() #等待p停止,等0.0001秒就不再等了\n",
    "print('开始')"
   ]
  },
  {
   "cell_type": "markdown",
   "metadata": {},
   "source": [
    "每启动一个新的进程相当创建全局变量的一份副本，子进程里的数据修改无法影响到主进程以及其他子进程中的数据，不同子进程之间的数据也不能共享，这是多进程与多线程最明显的区别  \n",
    "所以下面都能成功"
   ]
  },
  {
   "cell_type": "code",
   "execution_count": 75,
   "metadata": {},
   "outputs": [
    {
     "name": "stdout",
     "output_type": "stream",
     "text": [
      "12883 success 2\n",
      "12884 success 2\n",
      "12885 success 2\n",
      "12886 success 2\n",
      "12887 success 2\n"
     ]
    }
   ],
   "source": [
    "from multiprocessing import Process, Lock\n",
    "import time\n",
    "import random\n",
    "import os\n",
    "\n",
    "def work(lock):\n",
    "    lock.acquire()\n",
    "    global a\n",
    "    if a > 0:\n",
    "        print('%s success' % os.getpid(),a)\n",
    "        a -= 1\n",
    "        time.sleep(random.randrange(0,2))\n",
    "    else:\n",
    "        print('%s fail' % os.getpid())\n",
    "    lock.release()\n",
    "\n",
    "if __name__ == '__main__':\n",
    "    a = 2\n",
    "    lock = Lock()\n",
    "    p_obj =[]\n",
    "    for i in range(0,5):\n",
    "        p = Process(target=work,args=(lock,))\n",
    "        p.start()\n",
    "        p_obj.append(p)\n"
   ]
  },
  {
   "cell_type": "markdown",
   "metadata": {},
   "source": [
    "多进程在读写文件的时候 加锁"
   ]
  },
  {
   "cell_type": "code",
   "execution_count": 79,
   "metadata": {},
   "outputs": [
    {
     "name": "stdout",
     "output_type": "stream",
     "text": [
      "12937 购票成功\n",
      "12938 购票成功\n",
      "12939 购票成功\n",
      "12940 购票失败\n",
      "12941 购票失败\n",
      "12942 购票失败\n",
      "12943 购票失败\n",
      "12944 购票失败\n",
      "12945 购票失败\n",
      "12946 购票失败\n",
      "主线程\n"
     ]
    }
   ],
   "source": [
    "from multiprocessing import Process,Lock\n",
    "import json\n",
    "import time\n",
    "import random\n",
    "import os\n",
    "\n",
    "def work(filename,lock): #买票\n",
    "    lock.acquire()\n",
    "#     with lock:\n",
    "    with open(filename,encoding='utf-8') as f:\n",
    "        dic=json.loads(f.read())\n",
    "        # print('剩余票数: %s' % dic['count'])\n",
    "    if dic['count'] > 0:\n",
    "        dic['count']-=1\n",
    "        time.sleep(random.randint(1,2)) #模拟网络延迟\n",
    "        with open(filename,'w',encoding='utf-8') as f:\n",
    "            f.write(json.dumps(dic))\n",
    "        print('%s 购票成功' %os.getpid())\n",
    "    else:\n",
    "        print('%s 购票失败' %os.getpid())\n",
    "    lock.release()\n",
    "\n",
    "if __name__ == '__main__':\n",
    "    lock=Lock()\n",
    "    p_l=[]\n",
    "    for i in range(10):\n",
    "        p=Process(target=work,args=('db.txt',lock))\n",
    "        p_l.append(p)\n",
    "        p.start()\n",
    "    for p in p_l:\n",
    "        p.join()\n",
    "\n",
    "    print('主线程')"
   ]
  },
  {
   "cell_type": "code",
   "execution_count": 65,
   "metadata": {},
   "outputs": [
    {
     "data": {
      "text/plain": [
       "-1"
      ]
     },
     "execution_count": 65,
     "metadata": {},
     "output_type": "execute_result"
    }
   ],
   "source": []
  },
  {
   "cell_type": "code",
   "execution_count": null,
   "metadata": {},
   "outputs": [],
   "source": []
  }
 ],
 "metadata": {
  "kernelspec": {
   "display_name": "Python 3",
   "language": "python",
   "name": "python3"
  },
  "language_info": {
   "codemirror_mode": {
    "name": "ipython",
    "version": 3
   },
   "file_extension": ".py",
   "mimetype": "text/x-python",
   "name": "python",
   "nbconvert_exporter": "python",
   "pygments_lexer": "ipython3",
   "version": "3.7.3"
  }
 },
 "nbformat": 4,
 "nbformat_minor": 4
}
