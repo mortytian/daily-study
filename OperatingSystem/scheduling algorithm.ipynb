{
 "cells": [
  {
   "cell_type": "code",
   "execution_count": 1,
   "metadata": {},
   "outputs": [],
   "source": [
    "import random as ran\n",
    "import copy\n",
    "\n",
    "class process:\n",
    "    def __init__(self,brust_time=None, priority=None):\n",
    "        self.brust_time = brust_time if brust_time != None else ran.randint(1,20)\n",
    "        self.priority = priority if priority != None else ran.randint(1,10)\n"
   ]
  },
  {
   "cell_type": "code",
   "execution_count": 2,
   "metadata": {},
   "outputs": [],
   "source": [
    "def FCFS(processes):\n",
    "    waiting_time = 0\n",
    "    for p in range(1,len(processes)):\n",
    "        for j in range(0,p):\n",
    "            waiting_time += processes[j].brust_time\n",
    "    avg_wait = waiting_time / len(processes)\n",
    "    return avg_wait\n",
    "        "
   ]
  },
  {
   "cell_type": "code",
   "execution_count": 3,
   "metadata": {},
   "outputs": [],
   "source": [
    "def SJF(process):\n",
    "    processes = copy.deepcopy(process)\n",
    "    processes.sort(key = lambda p: p.brust_time)\n",
    "    waiting_time = 0\n",
    "    for p in range(1,len(processes)):\n",
    "        for j in range(0,p):\n",
    "            waiting_time += processes[j].brust_time\n",
    "    avg_wait = waiting_time / len(processes)\n",
    "    return avg_wait\n",
    "    \n",
    "    "
   ]
  },
  {
   "cell_type": "code",
   "execution_count": 4,
   "metadata": {},
   "outputs": [],
   "source": [
    "def Priority(process):\n",
    "    processes = copy.deepcopy(process)\n",
    "    processes.sort(key = lambda p: p.priority)\n",
    "    waiting_time = 0\n",
    "    for p in range(1,len(processes)):\n",
    "        for j in range(0,p):\n",
    "            waiting_time += processes[j].brust_time\n",
    "    avg_wait = waiting_time / len(processes)\n",
    "    return avg_wait\n",
    "    \n"
   ]
  },
  {
   "cell_type": "code",
   "execution_count": 35,
   "metadata": {},
   "outputs": [],
   "source": [
    "def RR(processes):\n",
    "    time_quantum = 5\n",
    "    waiting_time = 0\n",
    "    RR_pro = copy.deepcopy(processes)\n",
    "    while len(RR_pro) != 1 and len(RR_pro) != 0:\n",
    "        flag = []\n",
    "        for p in range(len(RR_pro)):\n",
    "            if RR_pro[p].brust_time < time_quantum:\n",
    "                flag.append(p)\n",
    "                \n",
    "        for p in range(len(RR_pro)):   \n",
    "            if p not in flag and len(RR_pro) > 1:\n",
    "                for j in range(0,p):\n",
    "                    waiting_time += RR_pro[j].brust_time if j  in flag else time_quantum\n",
    "                RR_pro[p].brust_time -= time_quantum\n",
    "\n",
    "            elif p in flag and len(RR_pro) > 1:\n",
    "                for j in range(0,p):\n",
    "                    waiting_time += RR_pro[j].brust_time if j  in flag else time_quantum\n",
    "\n",
    "        for f in reversed(flag):\n",
    "            if len(RR_pro) > len(flag):\n",
    "                waiting_time += RR_pro[f].brust_time\n",
    "            del RR_pro[f]\n",
    "    avg_wait = waiting_time / len(processes)\n",
    "    return avg_wait\n",
    "\n",
    "        \n",
    "        "
   ]
  },
  {
   "cell_type": "code",
   "execution_count": 25,
   "metadata": {},
   "outputs": [],
   "source": [
    "def RR(processes):\n",
    "    time_quantum = 1\n",
    "    waiting_time = 0\n",
    "    RR_pro = copy.deepcopy(processes)\n",
    "    i = 0\n",
    "    if len(processes ) ==1:\n",
    "        return 0\n",
    "    \n",
    "    while RR_pro[-1] !=  RR_pro[-2] and len(RR_pro) > i:\n",
    "        if RR_pro[i].brust_time < time_quantum:\n",
    "            for j in range(0,i):\n",
    "                waiting_time += RR_pro[j].brust_time if RR_pro[j].brust_time < time_quantum else time_quantum\n",
    "        else:\n",
    "            t = []\n",
    "            for j in range(0,len(RR_pro)):\n",
    "                if RR_pro[i] == RR_pro[j]:\n",
    "                    t.append(j)\n",
    "            \n",
    "            # 第一次出现\n",
    "            if len(t) < 2:\n",
    "                for j in range(0,i):\n",
    "                    waiting_time += RR_pro[j].brust_time if RR_pro[j].brust_time < time_quantum else time_quantum\n",
    "            else:\n",
    "                for j in range(t[-2]+1, t[-1]):\n",
    "                    waiting_time += RR_pro[j].brust_time if RR_pro[j].brust_time < time_quantum else time_quantum\n",
    "            RR_pro.append(RR_pro[i])\n",
    "            RR_pro[-1].brust_time -= time_quantum\n",
    "#         print(waiting_time)\n",
    "        i += 1\n",
    "#     print(waiting_time)\n",
    "    avg_time = waiting_time / len(processes)\n",
    "    return avg_time\n",
    "#         waiting_time += RR_pro[i] if RR_pro[i] < time_quantum else time_quantum\n",
    "        "
   ]
  },
  {
   "cell_type": "code",
   "execution_count": 21,
   "metadata": {},
   "outputs": [],
   "source": [
    "def RR(processes):\n",
    "    time_quantum = 1\n",
    "    waiting_time = 0\n",
    "    RR_pro = copy.deepcopy(processes)\n",
    "    \n",
    "    n = len(RR_pro) \n",
    "    i = 0\n",
    "    flag = True\n",
    "    temp_pro = copy.deepcopy(RR_pro)\n",
    "    total = 0\n",
    "    while flag:\n",
    "        if total % n == 0:\n",
    "            temp_pro = copy.deepcopy(RR_pro)\n",
    "        j = (i + 1) % n\n",
    "        if total // n == 0:\n",
    "            for j in range(0,i):\n",
    "                if temp_pro[j].brust_time > time_quantum:\n",
    "                    waiting_time += time_quantum\n",
    "                else:\n",
    "                    waiting_time += temp_pro[j].brust_time\n",
    "            RR_pro[i].brust_time = max(0, RR_pro[i].brust_time - time_quantum)\n",
    "            \n",
    "        \n",
    "        else:\n",
    "            while temp_pro[i] != temp_pro[j]:\n",
    "#                 print(waiting_time,total,i,j,min(temp_pro[j].brust_time,time_quantum))\n",
    "#                 print(j,i, temp_pro[j].brust_time)\n",
    "                waiting_time += min(temp_pro[j].brust_time,time_quantum)\n",
    "                j = (j + 1 ) % n\n",
    "\n",
    "            if RR_pro[i].brust_time > time_quantum:\n",
    "                RR_pro[i].brust_time -= time_quantum\n",
    "\n",
    "            else:\n",
    "                RR_pro[i].brust_time = 0\n",
    "            \n",
    "#         print(i, waiting_time)\n",
    "        \n",
    "\n",
    "\n",
    "        total += 1\n",
    "        i = total % n\n",
    "        m = 0\n",
    "        \n",
    "        for j in RR_pro:\n",
    "            if j.brust_time != 0:\n",
    "                m += 1\n",
    "        if m == 0:\n",
    "            flag = False\n",
    "        \n",
    "    avg_time = waiting_time / len(processes)\n",
    "    return avg_time"
   ]
  },
  {
   "cell_type": "code",
   "execution_count": 23,
   "metadata": {},
   "outputs": [
    {
     "data": {
      "text/plain": [
       "12.4"
      ]
     },
     "execution_count": 23,
     "metadata": {},
     "output_type": "execute_result"
    }
   ],
   "source": [
    "RR(processes)"
   ]
  },
  {
   "cell_type": "code",
   "execution_count": 36,
   "metadata": {},
   "outputs": [
    {
     "name": "stdout",
     "output_type": "stream",
     "text": [
      "FCFS 44.2\n",
      "SJF 20.7\n",
      "Priority 39.1\n",
      "RR 29.0\n"
     ]
    }
   ],
   "source": [
    "processes = []\n",
    "for i in range(0,10):\n",
    "    ps = process()\n",
    "    processes.append(ps)\n",
    "    \n",
    "print('FCFS',FCFS(processes))\n",
    "print('SJF',SJF(processes))\n",
    "print('Priority',Priority(processes))\n",
    "print('RR',RR(processes))"
   ]
  },
  {
   "cell_type": "code",
   "execution_count": 32,
   "metadata": {},
   "outputs": [],
   "source": [
    "processes=[]\n",
    "ps = process(10,3)\n",
    "processes.append(ps)\n",
    "ps = process(1,1)\n",
    "processes.append(ps)\n",
    "ps = process(2,3)\n",
    "processes.append(ps)\n",
    "ps = process(1,4)\n",
    "processes.append(ps)\n",
    "ps = process(5,2)\n",
    "processes.append(ps)"
   ]
  },
  {
   "cell_type": "code",
   "execution_count": 33,
   "metadata": {},
   "outputs": [
    {
     "name": "stdout",
     "output_type": "stream",
     "text": [
      "FCFS 9.6\n",
      "SJF 3.2\n",
      "Priority 8.2\n",
      "RR 4.2\n"
     ]
    }
   ],
   "source": [
    "print('FCFS',FCFS(processes))\n",
    "print('SJF',SJF(processes))\n",
    "print('Priority',Priority(processes))\n",
    "print('RR',RR(processes))"
   ]
  },
  {
   "cell_type": "code",
   "execution_count": 793,
   "metadata": {},
   "outputs": [
    {
     "name": "stdout",
     "output_type": "stream",
     "text": [
      "FCFS 9.6\n",
      "SJF 3.2\n",
      "Priority 8.2\n",
      "RR 11.4\n"
     ]
    }
   ],
   "source": [
    "print('FCFS',FCFS(processes))\n",
    "print('SJF',SJF(processes))\n",
    "print('Priority',Priority(processes))\n",
    "print('RR',RR(processes))"
   ]
  },
  {
   "cell_type": "code",
   "execution_count": 509,
   "metadata": {},
   "outputs": [
    {
     "data": {
      "text/plain": [
       "[<__main__.process at 0x10c933390>,\n",
       " <__main__.process at 0x10c933d30>,\n",
       " <__main__.process at 0x10c933320>,\n",
       " <__main__.process at 0x10c933518>,\n",
       " <__main__.process at 0x10c933d68>,\n",
       " <__main__.process at 0x10c933d68>]"
      ]
     },
     "execution_count": 509,
     "metadata": {},
     "output_type": "execute_result"
    }
   ],
   "source": [
    "processes"
   ]
  },
  {
   "cell_type": "code",
   "execution_count": 512,
   "metadata": {},
   "outputs": [],
   "source": [
    "processes.append(processes[0])"
   ]
  },
  {
   "cell_type": "code",
   "execution_count": 523,
   "metadata": {},
   "outputs": [],
   "source": [
    "a = copy.deepcopy(processes)"
   ]
  },
  {
   "cell_type": "code",
   "execution_count": 521,
   "metadata": {},
   "outputs": [],
   "source": [
    "processes[0].brust_time = 2"
   ]
  },
  {
   "cell_type": "code",
   "execution_count": 522,
   "metadata": {},
   "outputs": [
    {
     "data": {
      "text/plain": [
       "2"
      ]
     },
     "execution_count": 522,
     "metadata": {},
     "output_type": "execute_result"
    }
   ],
   "source": [
    "processes[-1].brust_time"
   ]
  },
  {
   "cell_type": "code",
   "execution_count": 524,
   "metadata": {},
   "outputs": [
    {
     "data": {
      "text/plain": [
       "[<__main__.process at 0x10cb4cac8>,\n",
       " <__main__.process at 0x10cb4c908>,\n",
       " <__main__.process at 0x10cb4c828>,\n",
       " <__main__.process at 0x10cabb208>,\n",
       " <__main__.process at 0x10cabb390>,\n",
       " <__main__.process at 0x10cabb390>,\n",
       " <__main__.process at 0x10cb4cac8>]"
      ]
     },
     "execution_count": 524,
     "metadata": {},
     "output_type": "execute_result"
    }
   ],
   "source": [
    "a"
   ]
  },
  {
   "cell_type": "code",
   "execution_count": 525,
   "metadata": {},
   "outputs": [
    {
     "data": {
      "text/plain": [
       "[<__main__.process at 0x10c933390>,\n",
       " <__main__.process at 0x10c933d30>,\n",
       " <__main__.process at 0x10c933320>,\n",
       " <__main__.process at 0x10c933518>,\n",
       " <__main__.process at 0x10c933d68>,\n",
       " <__main__.process at 0x10c933d68>,\n",
       " <__main__.process at 0x10c933390>]"
      ]
     },
     "execution_count": 525,
     "metadata": {},
     "output_type": "execute_result"
    }
   ],
   "source": [
    "processes"
   ]
  },
  {
   "cell_type": "code",
   "execution_count": null,
   "metadata": {},
   "outputs": [],
   "source": []
  }
 ],
 "metadata": {
  "kernelspec": {
   "display_name": "Python 3",
   "language": "python",
   "name": "python3"
  },
  "language_info": {
   "codemirror_mode": {
    "name": "ipython",
    "version": 3
   },
   "file_extension": ".py",
   "mimetype": "text/x-python",
   "name": "python",
   "nbconvert_exporter": "python",
   "pygments_lexer": "ipython3",
   "version": "3.7.3"
  }
 },
 "nbformat": 4,
 "nbformat_minor": 4
}
