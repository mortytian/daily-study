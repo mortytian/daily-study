{
 "cells": [
  {
   "cell_type": "code",
   "execution_count": 24,
   "metadata": {},
   "outputs": [],
   "source": [
    "from multiprocessing import Process\n",
    "import copy\n",
    "import numpy as np"
   ]
  },
  {
   "cell_type": "code",
   "execution_count": 25,
   "metadata": {},
   "outputs": [],
   "source": [
    "class process:\n",
    "    def __init__(self, allocation, maxr):\n",
    "        self.allocation = allocation\n",
    "        self.maxr = maxr\n",
    "        self.need = self.maxr- self.allocation\n",
    "    \n"
   ]
  },
  {
   "cell_type": "code",
   "execution_count": 81,
   "metadata": {},
   "outputs": [],
   "source": [
    "def safety_algorithm(available,processes):\n",
    "    work = copy.deepcopy(available)\n",
    "    finish = np.zeros((len(processes),))\n",
    "    flag = []\n",
    "    for j in range(len(processes)):\n",
    "        for i in range(len(processes)):\n",
    "            if finish[i] == 0 and (processes[i].need <= work).all():\n",
    "                work += processes[i].allocation\n",
    "                finish[i] = 1\n",
    "                flag.append(i)\n",
    "    if (finish == 1).all():\n",
    "        print('safe state')\n",
    "        print('sequence:', flag)\n",
    "        return True\n",
    "    else:\n",
    "        print('unsafe')\n",
    "        return False"
   ]
  },
  {
   "cell_type": "code",
   "execution_count": null,
   "metadata": {},
   "outputs": [],
   "source": []
  },
  {
   "cell_type": "code",
   "execution_count": 82,
   "metadata": {},
   "outputs": [],
   "source": [
    "def resource_request_algorithm(request_i, processes, available,i):\n",
    "    if (request_i > processes[i].need).all():\n",
    "        print('error process has exceeded its maximum claim')\n",
    "        return False\n",
    "    else:\n",
    "        if (request_i > available[i]).all():\n",
    "            print('request must wait')\n",
    "            return False\n",
    "        else:\n",
    "            available -= request_i\n",
    "            processes[i].allocation += request_i\n",
    "            processes[i].need -= request_i\n",
    "            if safety_algorithm(available, processes):\n",
    "                return True\n",
    "            else:\n",
    "                available += request_i\n",
    "                processes[i].allocation -= request_i\n",
    "                processes[i].need += request_i\n",
    "                return False"
   ]
  },
  {
   "cell_type": "code",
   "execution_count": 89,
   "metadata": {},
   "outputs": [],
   "source": [
    "def bankerAlgorthm():\n",
    "    available = np.array([3,3,2])\n",
    "    Max = np.array([[7,5,3],[3,2,2],[9,0,2],[2,2,2],[4,3,3]]) \n",
    "    allocation = np.array([[0,1,0],[2,0,0],[3,0,2],[2,1,1],[0,0,2]])       \n",
    "    processes = []\n",
    "    for i in range(len(Max)):\n",
    "        processes.append(process(allocation[i],Max[i]))\n",
    "    safety_algorithm(available, processes)\n",
    "    request_i = np.array([1,0,2])\n",
    "    print('\\nProcess request [1,0,2]')\n",
    "    if resource_request_algorithm(request_i, processes, available, 1):\n",
    "        print('request granted')\n",
    "    "
   ]
  },
  {
   "cell_type": "code",
   "execution_count": 90,
   "metadata": {},
   "outputs": [
    {
     "name": "stdout",
     "output_type": "stream",
     "text": [
      "safe state\n",
      "sequence: [1, 3, 4, 0, 2]\n",
      "\n",
      "Process request [1,0,2]\n",
      "safe state\n",
      "sequence: [1, 3, 4, 0, 2]\n",
      "request granted\n"
     ]
    }
   ],
   "source": [
    "bankerAlgorthm()"
   ]
  },
  {
   "cell_type": "code",
   "execution_count": null,
   "metadata": {},
   "outputs": [],
   "source": []
  }
 ],
 "metadata": {
  "kernelspec": {
   "display_name": "Python 3",
   "language": "python",
   "name": "python3"
  },
  "language_info": {
   "codemirror_mode": {
    "name": "ipython",
    "version": 3
   },
   "file_extension": ".py",
   "mimetype": "text/x-python",
   "name": "python",
   "nbconvert_exporter": "python",
   "pygments_lexer": "ipython3",
   "version": "3.7.3"
  }
 },
 "nbformat": 4,
 "nbformat_minor": 4
}
