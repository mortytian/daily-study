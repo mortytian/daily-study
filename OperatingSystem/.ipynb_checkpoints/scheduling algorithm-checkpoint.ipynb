{
 "cells": [
  {
   "cell_type": "code",
   "execution_count": 343,
   "metadata": {},
   "outputs": [],
   "source": [
    "import random as ran\n",
    "import copy\n",
    "\n",
    "class process:\n",
    "    def __init__(self,brust_time=None, priority=None):\n",
    "        self.brust_time = brust_time if brust_time != None else ran.randint(1,20)\n",
    "        self.priority = priority if priority != None else ran.randint(1,10)\n"
   ]
  },
  {
   "cell_type": "code",
   "execution_count": 344,
   "metadata": {},
   "outputs": [],
   "source": [
    "def FCFS(processes):\n",
    "    waiting_time = 0\n",
    "    for p in range(1,len(processes)):\n",
    "        for j in range(0,p):\n",
    "            waiting_time += processes[j].brust_time\n",
    "    avg_wait = waiting_time / len(processes)\n",
    "    return avg_wait\n",
    "        "
   ]
  },
  {
   "cell_type": "code",
   "execution_count": 345,
   "metadata": {},
   "outputs": [],
   "source": [
    "def SJF(process):\n",
    "    processes = copy.deepcopy(process)\n",
    "    processes.sort(key = lambda p: p.brust_time)\n",
    "    waiting_time = 0\n",
    "    for p in range(1,len(processes)):\n",
    "        for j in range(0,p):\n",
    "            waiting_time += processes[j].brust_time\n",
    "    avg_wait = waiting_time / len(processes)\n",
    "    return avg_wait\n",
    "    \n",
    "    "
   ]
  },
  {
   "cell_type": "code",
   "execution_count": 346,
   "metadata": {},
   "outputs": [],
   "source": [
    "def Priority(process):\n",
    "    processes = copy.deepcopy(process)\n",
    "    processes.sort(key = lambda p: p.priority)\n",
    "    waiting_time = 0\n",
    "    for p in range(1,len(processes)):\n",
    "        for j in range(0,p):\n",
    "            waiting_time += processes[j].brust_time\n",
    "    avg_wait = waiting_time / len(processes)\n",
    "    return avg_wait\n",
    "    \n"
   ]
  },
  {
   "cell_type": "code",
   "execution_count": 365,
   "metadata": {},
   "outputs": [],
   "source": [
    "def RR(processes):\n",
    "    time_quantum = 100\n",
    "    waiting_time = 0\n",
    "    RR_pro = copy.deepcopy(processes)\n",
    "    while len(RR_pro) != 1 and len(RR_pro) != 0:\n",
    "        flag = []\n",
    "        for p in range(len(RR_pro)):\n",
    "            if RR_pro[p].brust_time > waiting_time and len(RR_pro) > 1:\n",
    "                for j in range(0,p):\n",
    "                    waiting_time += RR_pro[j].brust_time if j  in flag else time_quantum\n",
    "                RR_pro[p].brust_time -= time_quantum\n",
    "                \n",
    "            elif RR_pro[p].brust_time <= waiting_time and len(RR_pro) > 1:\n",
    "                flag.append(p)\n",
    "                for j in range(0,p):\n",
    "                    waiting_time += RR_pro[j].brust_time if j  in flag else time_quantum\n",
    "                    \n",
    "        for f in flag:\n",
    "            del RR_pro[f]\n",
    "            for j in range(len(flag)):\n",
    "                flag[j] -= 1\n",
    "        print(len(RR_pro))\n",
    "    avg_wait = waiting_time / len(processes)\n",
    "    return avg_wait\n",
    "\n",
    "        \n",
    "        "
   ]
  },
  {
   "cell_type": "code",
   "execution_count": 366,
   "metadata": {},
   "outputs": [],
   "source": [
    "processes = []\n",
    "for i in range(0,5):\n",
    "    ps = process()\n",
    "    processes.append(ps)"
   ]
  },
  {
   "cell_type": "code",
   "execution_count": 367,
   "metadata": {},
   "outputs": [
    {
     "data": {
      "text/plain": [
       "7.2"
      ]
     },
     "execution_count": 367,
     "metadata": {},
     "output_type": "execute_result"
    }
   ],
   "source": [
    "SJF(processes)"
   ]
  },
  {
   "cell_type": "code",
   "execution_count": 368,
   "metadata": {},
   "outputs": [
    {
     "data": {
      "text/plain": [
       "23.0"
      ]
     },
     "execution_count": 368,
     "metadata": {},
     "output_type": "execute_result"
    }
   ],
   "source": [
    "FCFS(processes)"
   ]
  },
  {
   "cell_type": "code",
   "execution_count": 369,
   "metadata": {},
   "outputs": [
    {
     "data": {
      "text/plain": [
       "17.0"
      ]
     },
     "execution_count": 369,
     "metadata": {},
     "output_type": "execute_result"
    }
   ],
   "source": [
    "Priority(processes)"
   ]
  },
  {
   "cell_type": "code",
   "execution_count": 370,
   "metadata": {},
   "outputs": [
    {
     "name": "stdout",
     "output_type": "stream",
     "text": [
      "2\n",
      "0\n"
     ]
    },
    {
     "data": {
      "text/plain": [
       "124.4"
      ]
     },
     "execution_count": 370,
     "metadata": {},
     "output_type": "execute_result"
    }
   ],
   "source": [
    "RR(processes)"
   ]
  },
  {
   "cell_type": "code",
   "execution_count": 161,
   "metadata": {},
   "outputs": [],
   "source": [
    "processes=[]\n",
    "ps = process(6)\n",
    "processes.append(ps)\n",
    "ps = process(8)\n",
    "processes.append(ps)\n",
    "ps = process(7)\n",
    "processes.append(ps)\n",
    "ps = process(3)\n",
    "processes.append(ps)"
   ]
  },
  {
   "cell_type": "code",
   "execution_count": null,
   "metadata": {},
   "outputs": [],
   "source": []
  }
 ],
 "metadata": {
  "kernelspec": {
   "display_name": "Python 3",
   "language": "python",
   "name": "python3"
  },
  "language_info": {
   "codemirror_mode": {
    "name": "ipython",
    "version": 3
   },
   "file_extension": ".py",
   "mimetype": "text/x-python",
   "name": "python",
   "nbconvert_exporter": "python",
   "pygments_lexer": "ipython3",
   "version": "3.7.3"
  }
 },
 "nbformat": 4,
 "nbformat_minor": 4
}
